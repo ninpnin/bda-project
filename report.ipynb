{
 "cells": [
  {
   "cell_type": "markdown",
   "metadata": {},
   "source": [
    "# BDA Project\n",
    "\n",
    "This is a sketch for the final python notebook that we are going to submit. I've added a basic structural template that corresponds to the instructions."
   ]
  },
  {
   "cell_type": "markdown",
   "metadata": {},
   "source": [
    "# (Abstract)\n",
    "\n",
    "We might want one of these, not sure."
   ]
  },
  {
   "cell_type": "markdown",
   "metadata": {},
   "source": [
    "# Introduction\n",
    "\n",
    "This was a part of the rubric. Talk about the context, as well as the questions we aim to answer.\n",
    "\n",
    "Things to include\n",
    "- What are TCRs and all this weird biology stuff\n",
    "- What is the acronym starting with C and what does it mean\n",
    "- Point out that these are categorical/binary variables\n",
    "- What are we examining, what are we predicting\n",
    "- Mention the original paper"
   ]
  },
  {
   "cell_type": "markdown",
   "metadata": {},
   "source": [
    "# Methods\n",
    "\n",
    "Not mentioned in the questions but nice to have anyway. Makes the structure coherent.\n",
    "\n",
    "Stuff we use\n",
    "\n",
    "- Fisher's exact test for individual TCR\n",
    "- Max likelihood estimate for plain classification (accuracy metric), I think?\n",
    "- Some continuous [0,1] (probability) estimate for the logloss\n",
    "- LOO (or approximant) for different models\n",
    "    - We might want to look into the LOO approximant by Vehtari :^)\n",
    "    \n",
    "Subsections for each of these.\n",
    "    \n",
    "^ Are these correct? I'm not 100% sure."
   ]
  },
  {
   "cell_type": "code",
   "execution_count": 12,
   "metadata": {},
   "outputs": [],
   "source": [
    "# maybe some python code here"
   ]
  },
  {
   "cell_type": "markdown",
   "metadata": {},
   "source": [
    "$P(CMV^+ \\mid TCR_1, TCR_2, \\dots TCR_n ) = \\frac{P(TCR_1, TCR_2, \\dots TCR_n \\mid CMV^+)}{P(TCR_1, TCR_2, \\dots TCR_n)}$\n",
    "\n",
    "Let's denote $TCR_1, TCR_2, \\dots TCR_n$ with $T$ for clarity.\n",
    "\n",
    "$P(CMD^+ \\mid T) = \\frac{P(T \\mid CMV^+) P(CMV^+)}{P(T)}$\n",
    "\n",
    "$ = \\frac{P(T \\mid CMV^+) P(CMV^+)}{P(T \\mid CMV^+) + P(T \\mid CMV^-)}$\n",
    "\n",
    "Since $CMV^+$ and $CMV^-$ are complements. From the assumption of independence, as well as the expectations of the Beta distribution we obtain\n",
    "\n",
    "$\\frac{P(T \\mid CMV^+) P(CMV^+)}{P(T \\mid CMV^+) + P(T \\mid CMV^-)}$\n",
    "$ = \\frac{\\Pi_{i=1}^n P(TCR_i \\mid CMV^+)P(CMV^+)}{ \\Pi_{i=1}^n P(TCR_i \\mid CMV^+)P(CMV^+) + \\Pi_{i=1}^n P(TCR_i \\mid CMV^-)P(CMV^+) } $\n",
    "\n",
    "$ = \\frac{\\frac{m_i^++1}{m_i^++2} \\Pi_{i=1}^n \\frac{l_i^++1}{m_i^++2} }{ \\frac{m_i^++1}{m_i^++2}\\Pi_{i=1}^n \\frac{l_i^++1}{m_i^++2} + \\frac{m_i^-+1}{m_i^-+2}\\Pi_{i=1}^n \\frac{l_i^-+1}{m_i^-+2} } $\n",
    "\n",
    "where $l^+$ and $l^-$ denote occurences of the given TCR in the CMV positive group and CMV negative group respectively. Likewise, $n^+$ and $n^-$ denote the total sizes of these groups."
   ]
  },
  {
   "cell_type": "markdown",
   "metadata": {},
   "source": [
    "# Results\n",
    "\n",
    "Integral part of the report, I guess. Do the stuff described above. Have the code maybe here or possibly in the appendix."
   ]
  },
  {
   "cell_type": "code",
   "execution_count": 13,
   "metadata": {},
   "outputs": [
    {
     "name": "stdout",
     "output_type": "stream",
     "text": [
      "[[0.65858662 0.54623998]\n",
      " [0.03014943 0.56086935]\n",
      " [0.49236616 0.33564563]]\n"
     ]
    }
   ],
   "source": [
    "# definitely some code here\n",
    "\n",
    "import numpy as np\n",
    "data = np.random.rand(3,2)\n",
    "\n",
    "print(data)"
   ]
  },
  {
   "cell_type": "markdown",
   "metadata": {},
   "source": [
    "# Discussion\n",
    "\n",
    "There were a few questions about this. Try to write this chapter accordingly."
   ]
  },
  {
   "cell_type": "code",
   "execution_count": 14,
   "metadata": {},
   "outputs": [],
   "source": [
    "# probably no or little code"
   ]
  },
  {
   "cell_type": "markdown",
   "metadata": {},
   "source": [
    "# Appendix\n",
    "\n",
    "Maybe stan or even python code. Let's see if it's better to have it in the actual report sections or here. Perhaps include some of the code in the report and full code here."
   ]
  },
  {
   "cell_type": "code",
   "execution_count": 15,
   "metadata": {},
   "outputs": [],
   "source": [
    "# python code"
   ]
  },
  {
   "cell_type": "code",
   "execution_count": 11,
   "metadata": {},
   "outputs": [],
   "source": [
    "#// stan code"
   ]
  }
 ],
 "metadata": {
  "kernelspec": {
   "display_name": "Python 3",
   "language": "python",
   "name": "python3"
  },
  "language_info": {
   "codemirror_mode": {
    "name": "ipython",
    "version": 3
   },
   "file_extension": ".py",
   "mimetype": "text/x-python",
   "name": "python",
   "nbconvert_exporter": "python",
   "pygments_lexer": "ipython3",
   "version": "3.6.5"
  }
 },
 "nbformat": 4,
 "nbformat_minor": 2
}
