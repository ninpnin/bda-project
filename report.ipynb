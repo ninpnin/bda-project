{
 "cells": [
  {
   "cell_type": "markdown",
   "metadata": {},
   "source": [
    "# BDA Project\n",
    "\n",
    "This is a sketch for the final python notebook that we are going to submit. I've added a basic structural template that corresponds to the instructions."
   ]
  },
  {
   "cell_type": "markdown",
   "metadata": {},
   "source": [
    "# Introduction\n",
    "\n",
    "This was a part of the rubiric. Talk about the context, as well as the questions we aim to answer."
   ]
  },
  {
   "cell_type": "markdown",
   "metadata": {},
   "source": [
    "# Methods\n",
    "\n",
    "Not mentioned in the questions but nice to have anyway. Makes the structure coherent.\n",
    "\n",
    "Stuff we use\n",
    "\n",
    "- Fisher's exact test for individual TCR\n",
    "- Max likelihood estimate for plain classification (accuracy metric), I think?\n",
    "- Some continuous [0,1] (probability) estimate for the logloss\n",
    "- LOO (or approximant) for different models\n"
   ]
  },
  {
   "cell_type": "code",
   "execution_count": 1,
   "metadata": {},
   "outputs": [],
   "source": [
    "# maybe some python code here"
   ]
  },
  {
   "cell_type": "markdown",
   "metadata": {},
   "source": [
    "# Results\n",
    "\n",
    "Integral part of the report, I guess. Do the stuff described above. Have the code maybe here or possibly in the appendix."
   ]
  },
  {
   "cell_type": "code",
   "execution_count": 7,
   "metadata": {},
   "outputs": [
    {
     "name": "stdout",
     "output_type": "stream",
     "text": [
      "[[0.4783422  0.02856472]\n",
      " [0.46213612 0.04680101]\n",
      " [0.47725033 0.78256963]]\n"
     ]
    }
   ],
   "source": [
    "# definitely some code here\n",
    "\n",
    "import numpy as np\n",
    "data = np.random.rand(3,2)\n",
    "\n",
    "print(data)"
   ]
  },
  {
   "cell_type": "markdown",
   "metadata": {},
   "source": [
    "# Discussion\n",
    "\n",
    "There were a few questions about this."
   ]
  },
  {
   "cell_type": "code",
   "execution_count": 3,
   "metadata": {},
   "outputs": [],
   "source": [
    "# probably no or little code"
   ]
  }
 ],
 "metadata": {
  "kernelspec": {
   "display_name": "Python 3",
   "language": "python",
   "name": "python3"
  },
  "language_info": {
   "codemirror_mode": {
    "name": "ipython",
    "version": 3
   },
   "file_extension": ".py",
   "mimetype": "text/x-python",
   "name": "python",
   "nbconvert_exporter": "python",
   "pygments_lexer": "ipython3",
   "version": "3.6.5"
  }
 },
 "nbformat": 4,
 "nbformat_minor": 2
}
